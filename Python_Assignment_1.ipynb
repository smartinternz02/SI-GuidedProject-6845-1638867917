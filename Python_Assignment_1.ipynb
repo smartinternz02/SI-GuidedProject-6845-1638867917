{
 "cells": [
  {
   "cell_type": "code",
   "execution_count": 1,
   "id": "113aba26",
   "metadata": {},
   "outputs": [
    {
     "data": {
      "text/plain": [
       "2401"
      ]
     },
     "execution_count": 1,
     "metadata": {},
     "output_type": "execute_result"
    }
   ],
   "source": [
    "# 1. What is 7 to the power of 4?\n",
    "\n",
    "pow(7,4)"
   ]
  },
  {
   "cell_type": "code",
   "execution_count": 2,
   "id": "e1931746",
   "metadata": {},
   "outputs": [
    {
     "data": {
      "text/plain": [
       "['Hi', 'there', 'Sam!']"
      ]
     },
     "execution_count": 2,
     "metadata": {},
     "output_type": "execute_result"
    }
   ],
   "source": [
    "# 2. Split this string into a list. \n",
    "#     s = \"Hi there Sam!\"\n",
    "\n",
    "s = \"Hi there Sam!\"\n",
    "ls = s.split(' ')\n",
    "ls"
   ]
  },
  {
   "cell_type": "code",
   "execution_count": 9,
   "id": "9ab7624d",
   "metadata": {},
   "outputs": [
    {
     "name": "stdout",
     "output_type": "stream",
     "text": [
      "The Diameter of Earth is 12742 kilometers\n"
     ]
    }
   ],
   "source": [
    "# 3.Given the variables\n",
    "#     planet = \"Earth\"\n",
    "#     diameter = 12742\n",
    "# Use .format() to print the following string\n",
    "# The diameter of Earth is 12742 kilometers.\n",
    "\n",
    "planet = \"Earth\"\n",
    "diameter = 12742\n",
    "print(\"The Diameter of {} is {} kilometers\".format(planet,diameter))"
   ]
  },
  {
   "cell_type": "code",
   "execution_count": 15,
   "id": "04c52cf1",
   "metadata": {},
   "outputs": [
    {
     "data": {
      "text/plain": [
       "'hello'"
      ]
     },
     "execution_count": 15,
     "metadata": {},
     "output_type": "execute_result"
    }
   ],
   "source": [
    "# 4.Given this nested list, use indexing to grab the word \"hello\n",
    "#     lst = [1,2,[3,4],[5,[100,200,['hello']],23,11],1,7]\n",
    "\n",
    "lst = [1,2,[3,4],[5,[100,200,['hello']],23,11],1,7]\n",
    "lst[3][1][2][0]"
   ]
  },
  {
   "cell_type": "code",
   "execution_count": 25,
   "id": "2ce8bbbe",
   "metadata": {},
   "outputs": [
    {
     "data": {
      "text/plain": [
       "'hello'"
      ]
     },
     "execution_count": 25,
     "metadata": {},
     "output_type": "execute_result"
    }
   ],
   "source": [
    "# 5. Given this nested dictionary grab the word \"hello\". Be prepared, this will be annoying/tricky\n",
    "#     d = {'k1':[1,2,3,{'tricky':['oh','man','inception',{'target':[1,2,3,'hello']}]}]}\n",
    "\n",
    "d = {'k1':[1,2,3,{'tricky':['oh','man','inception',{'target':[1,2,3,'hello']}]}]}\n",
    "\n",
    "d['k1'][3]['tricky'][3]['target'][3]"
   ]
  },
  {
   "cell_type": "raw",
   "id": "0e283ac9",
   "metadata": {},
   "source": [
    "# 6.What is the main difference between a tuple and a list?\n",
    "\n",
    "''' \n",
    " 1. List is muttable while tuple is immutable\n",
    " 2. List uses [] (Squre Brackets) While tuple uses parenthesis ()\n",
    " 3. List is not Hashable while tuple is hashable\n",
    " 4. List Can't be used as a dict key while tuple can be used as a dict key beacuse it is immutable\n",
    " \n",
    "'''"
   ]
  },
  {
   "cell_type": "code",
   "execution_count": 27,
   "id": "dc0dd151",
   "metadata": {},
   "outputs": [
    {
     "data": {
      "text/plain": [
       "'gmail.com'"
      ]
     },
     "execution_count": 27,
     "metadata": {},
     "output_type": "execute_result"
    }
   ],
   "source": [
    "# 7.Create a function that grabs the email website domain from a string in the form : user@domain.com\n",
    "#     So for example, passing \"user@domain.com\" would return: domain.com\n",
    "\n",
    "\n",
    "def webDomain(addr):\n",
    "    return addr.split('@')[1]\n",
    "\n",
    "webDomain(\"manu@gmail.com\")"
   ]
  },
  {
   "cell_type": "code",
   "execution_count": 36,
   "id": "bb3c9d5f",
   "metadata": {},
   "outputs": [
    {
     "data": {
      "text/plain": [
       "True"
      ]
     },
     "execution_count": 36,
     "metadata": {},
     "output_type": "execute_result"
    }
   ],
   "source": [
    "# 8. Create a basic function that returns True if the word 'dog' is contained in the input string. \n",
    "# Don't worry about edge cases like a punctuation being attached to the word dog, but do account for capitalization.\n",
    "\n",
    "def check(st):\n",
    "    st = st.title()\n",
    "    if 'Dog' in st:\n",
    "        return True\n",
    "    else:\n",
    "        return False\n",
    "\n",
    "check(\"HEllo my deAr dOG\")"
   ]
  },
  {
   "cell_type": "code",
   "execution_count": 44,
   "id": "1c8f9dba",
   "metadata": {},
   "outputs": [
    {
     "data": {
      "text/plain": [
       "['soup', 'salad']"
      ]
     },
     "execution_count": 44,
     "metadata": {},
     "output_type": "execute_result"
    }
   ],
   "source": [
    "# Use lambda expressions and the filter() function to filter out words from a list that don't start with the letter 's'.\n",
    "#     For example:\n",
    "#     seq = ['soup','dog','salad','cat','great']\n",
    "#     should be filtered down to:    ['soup','salad']\n",
    "\n",
    "seq = ['soup','dog','salad','cat','great']\n",
    "result = filter(lambda x : x.startswith('s'),seq)\n",
    "list(result)"
   ]
  },
  {
   "cell_type": "code",
   "execution_count": null,
   "id": "2b072f62",
   "metadata": {},
   "outputs": [],
   "source": [
    "# 10. You are driving a little too fast, and a police officer stops you. Write a function\n",
    "#       to return one of 3 possible results: \"No ticket\", \"Small ticket\", or \"Big Ticket\". \n",
    "#       If your speed is 60 or less, the result is \"No Ticket\". If speed is between 61 \n",
    "#       and 80 inclusive, the result is \"Small Ticket\". If speed is 81 or more, the result is \"Big    Ticket\".\n",
    "#      Unless it is your birthday (encoded as a boolean value in the parameters of the function) --\n",
    "#      on your birthday, your speed can be 5 higher in all cases. "
   ]
  },
  {
   "cell_type": "code",
   "execution_count": 49,
   "id": "dc8ba620",
   "metadata": {},
   "outputs": [
    {
     "data": {
      "text/plain": [
       "'No Ticket'"
      ]
     },
     "execution_count": 49,
     "metadata": {},
     "output_type": "execute_result"
    }
   ],
   "source": [
    "def generateTicket(speed,isBirthday):\n",
    "    if isBirthday:\n",
    "        if speed >= 86:\n",
    "            return \"Big Ticket\"\n",
    "        elif speed >= 66:\n",
    "            return \"Small Ticket\"\n",
    "        else:\n",
    "            return \"No Ticket\"\n",
    "    else:\n",
    "        if speed >= 81:\n",
    "            return \"Big Ticket\"\n",
    "        elif speed >= 61:\n",
    "            return \"Small Ticket\"\n",
    "        else:\n",
    "            return \"No Ticket\"\n",
    "\n",
    "generateTicket(60,False)"
   ]
  },
  {
   "cell_type": "code",
   "execution_count": null,
   "id": "aa631a22",
   "metadata": {},
   "outputs": [],
   "source": []
  },
  {
   "cell_type": "code",
   "execution_count": null,
   "id": "2220a4c6",
   "metadata": {},
   "outputs": [],
   "source": []
  }
 ],
 "metadata": {
  "kernelspec": {
   "display_name": "Python 3 (ipykernel)",
   "language": "python",
   "name": "python3"
  },
  "language_info": {
   "codemirror_mode": {
    "name": "ipython",
    "version": 3
   },
   "file_extension": ".py",
   "mimetype": "text/x-python",
   "name": "python",
   "nbconvert_exporter": "python",
   "pygments_lexer": "ipython3",
   "version": "3.9.7"
  }
 },
 "nbformat": 4,
 "nbformat_minor": 5
}
